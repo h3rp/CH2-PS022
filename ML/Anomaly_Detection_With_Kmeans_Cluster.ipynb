{
  "nbformat": 4,
  "nbformat_minor": 0,
  "metadata": {
    "colab": {
      "provenance": []
    },
    "kernelspec": {
      "name": "python3",
      "display_name": "Python 3"
    },
    "language_info": {
      "name": "python"
    }
  },
  "cells": [
    {
      "cell_type": "code",
      "execution_count": 1,
      "metadata": {
        "id": "DD8YdIvHH6OY"
      },
      "outputs": [],
      "source": [
        "import pandas as pd\n",
        "import matplotlib.pyplot as plt\n",
        "import numpy as np\n",
        "import seaborn as sns\n",
        "from sklearn.cluster import KMeans\n",
        "import pickle as pkl\n",
        "from flask import Flask"
      ]
    },
    {
      "cell_type": "code",
      "source": [
        "df = pd.read_csv('Dataset_pale.csv')"
      ],
      "metadata": {
        "id": "UNzMOzCHJ-oC"
      },
      "execution_count": 2,
      "outputs": []
    },
    {
      "cell_type": "code",
      "source": [
        "df.head()"
      ],
      "metadata": {
        "id": "nAPLm7Q-K7oX"
      },
      "execution_count": null,
      "outputs": []
    },
    {
      "cell_type": "code",
      "source": [
        "plt.style.use('seaborn')\n",
        "\n",
        "def plot_sensor(title, n_sample=None, bottom_n=0):\n",
        "    if n_sample is None:\n",
        "        n_sample = int((df.shape[0]-1)*1)\n",
        "    print(type(n_sample))\n",
        "\n",
        "    plt.figure(figsize=(16, 5))\n",
        "    plt.plot(pd.RangeIndex(len(df)), df.Suhu, color='#F7DC6F', label='Sensor Suhu')\n",
        "    plt.plot(pd.RangeIndex(len(df)), df.pH, color='#8E44AD', label='Sensor pH')\n",
        "    plt.plot(pd.RangeIndex(len(df)), df.Amonia, color='#16A085', label='Sensor Amonia')\n",
        "\n",
        "    plt.tick_params(axis='y', labelsize=18)\n",
        "    plt.tick_params(axis='x', labelsize=18)\n",
        "    plt.ylabel('Values', fontsize=21)\n",
        "    plt.xlabel('Sample Index', fontsize=21)\n",
        "    plt.xlim(bottom_n, n_sample)\n",
        "    plt.ylim(min(df[['Suhu', 'pH', 'Amonia']][bottom_n:n_sample].min()),\n",
        "             max(df[['Suhu', 'pH', 'Amonia']][bottom_n:n_sample].max()))\n",
        "\n",
        "    plt.suptitle(title, fontsize=20, y=0.94, fontweight='heavy')\n",
        "\n",
        "    leg = plt.legend(loc='best', ncol=1, prop={'size': 14, 'weight': 'bold'})\n",
        "\n",
        "    for i in range(3):\n",
        "        leg.get_lines()[i].set_linewidth(12)\n",
        "\n",
        "plot_sensor('Plot Sensors')\n",
        "plot_sensor('Plot Sensors (Zoomed)', 500, 100)\n",
        "plt.show()\n"
      ],
      "metadata": {
        "id": "u_gv65ruOanT"
      },
      "execution_count": null,
      "outputs": []
    },
    {
      "cell_type": "code",
      "source": [
        "df.head()"
      ],
      "metadata": {
        "id": "6PUtP8_mKVAL"
      },
      "execution_count": null,
      "outputs": []
    },
    {
      "cell_type": "code",
      "source": [
        "df.describe(percentiles=[.005,.01,.25,.5,.75,.8,.99,.995])"
      ],
      "metadata": {
        "id": "SgccRKKZMXkM"
      },
      "execution_count": null,
      "outputs": []
    },
    {
      "cell_type": "code",
      "source": [
        "df.isna().sum()"
      ],
      "metadata": {
        "id": "PtLS5thfLo1-"
      },
      "execution_count": null,
      "outputs": []
    },
    {
      "cell_type": "code",
      "source": [
        "df.info()"
      ],
      "metadata": {
        "id": "n5WjXbTTJCC3"
      },
      "execution_count": null,
      "outputs": []
    },
    {
      "cell_type": "code",
      "source": [
        "df.hist(bins = 100, figsize=(20, 15), color = 'brown');"
      ],
      "metadata": {
        "id": "yOi4zmysdDf5"
      },
      "execution_count": null,
      "outputs": []
    },
    {
      "cell_type": "code",
      "source": [
        "def apply_thresholds(df):\n",
        "    # Example usage:\n",
        "    column_thresholds = {\n",
        "        'Suhu': (25.0, 30.0),\n",
        "        'pH': (6.0, 9.0),\n",
        "        'Amonia': (0.0, 0.8)\n",
        "    }\n",
        "    for column, thresholds in column_thresholds.items():\n",
        "        lower_bound, upper_bound = thresholds\n",
        "        df[f'{column}_thresholded'] = df[column].apply(lambda val: 1 if val > upper_bound or val < lower_bound else 0)\n",
        "    return df\n",
        "def get_pattern(raw_features):\n",
        "    pattern_binary = ''\n",
        "    pattern_readable = ''\n",
        "\n",
        "    for i in range(3):\n",
        "        if raw_features[i+3] == 1:\n",
        "            pattern_readable += raw_features.keys()[i] + ': Failure, '\n",
        "        else:\n",
        "            pattern_readable += raw_features.keys()[i] + ': Normal, '\n",
        "        pattern_binary += str(int(raw_features[i+3]))\n",
        "\n",
        "    return pattern_binary, pattern_readable\n"
      ],
      "metadata": {
        "id": "k9qoL01lM3BN"
      },
      "execution_count": 10,
      "outputs": []
    },
    {
      "cell_type": "code",
      "source": [
        "# Assuming df is your DataFrame, you can call the function like this:\n",
        "df = apply_thresholds(df)"
      ],
      "metadata": {
        "id": "ZZKSJFmkH7Rk"
      },
      "execution_count": 11,
      "outputs": []
    },
    {
      "cell_type": "code",
      "source": [
        "df"
      ],
      "metadata": {
        "id": "--GEf-pNvoDM"
      },
      "execution_count": null,
      "outputs": []
    },
    {
      "cell_type": "code",
      "source": [
        "df.head(3)"
      ],
      "metadata": {
        "id": "zXUQ5TGqNJjy"
      },
      "execution_count": null,
      "outputs": []
    },
    {
      "cell_type": "code",
      "source": [
        "df.tail(3)"
      ],
      "metadata": {
        "id": "awKV2e4uNQaG"
      },
      "execution_count": null,
      "outputs": []
    },
    {
      "cell_type": "code",
      "source": [
        "df.nunique()"
      ],
      "metadata": {
        "id": "iPyA0JaWbiub"
      },
      "execution_count": null,
      "outputs": []
    },
    {
      "cell_type": "code",
      "source": [
        "cls = KMeans(n_clusters=2, init= 'k-means++', n_init=1000, max_iter=60).fit(df[df.columns[3:6]])\n",
        "df['Condition'] = cls.labels_"
      ],
      "metadata": {
        "id": "fmOT8p0RNshE"
      },
      "execution_count": 16,
      "outputs": []
    },
    {
      "cell_type": "code",
      "source": [
        "df['Binary Pattern'], df['Readable Pattern'] = zip(*df.apply(get_pattern, axis=1))"
      ],
      "metadata": {
        "id": "JgoKFozQq1Ew"
      },
      "execution_count": 17,
      "outputs": []
    },
    {
      "cell_type": "code",
      "source": [
        "from sklearn.metrics import silhouette_score\n",
        "print(silhouette_score(df[df.columns[3:6]], cls.labels_))"
      ],
      "metadata": {
        "id": "STVd2QD-yROj"
      },
      "execution_count": null,
      "outputs": []
    },
    {
      "cell_type": "code",
      "source": [
        "df.Amonia_thresholded.value_counts(), df.pH_thresholded.value_counts(), df.Suhu_thresholded.value_counts()"
      ],
      "metadata": {
        "id": "fYTRdC-pM5bQ"
      },
      "execution_count": null,
      "outputs": []
    },
    {
      "cell_type": "code",
      "source": [
        "with open('/content/'+'cluster_model.pkl', 'wb') as f:\n",
        "  pkl.dump(cls, f, pkl.HIGHEST_PROTOCOL)"
      ],
      "metadata": {
        "id": "ll6GREyV3Gxw"
      },
      "execution_count": 20,
      "outputs": []
    },
    {
      "cell_type": "code",
      "source": [
        "df"
      ],
      "metadata": {
        "id": "S_Wqma1sWzgT"
      },
      "execution_count": null,
      "outputs": []
    },
    {
      "cell_type": "code",
      "source": [
        "df['Condition'].value_counts()"
      ],
      "metadata": {
        "id": "22cEKxB2YSMe"
      },
      "execution_count": null,
      "outputs": []
    },
    {
      "cell_type": "code",
      "source": [
        "df['Binary Pattern'].value_counts()"
      ],
      "metadata": {
        "id": "H6PGLrHOETU6"
      },
      "execution_count": null,
      "outputs": []
    },
    {
      "cell_type": "code",
      "source": [
        "df['Readable Pattern'].value_counts()"
      ],
      "metadata": {
        "id": "lnTW6ZmgE0aZ"
      },
      "execution_count": null,
      "outputs": []
    },
    {
      "cell_type": "code",
      "source": [
        "import pickle\n",
        "\n",
        "rules_model = []\n",
        "alert_rules = []\n",
        "\n",
        "for pattern in df[df.Condition==1]['Binary Pattern'].value_counts().keys():\n",
        "  rules_model.append(pattern)\n",
        "for pattern in df[df.Condition==1]['Readable Pattern'].value_counts().keys():\n",
        "  alert_rules.append(pattern+' -> Kualitas Air Tidak Baik !')\n",
        "\n",
        "with open('/content/'+'rules_model.pkl', 'wb') as f:\n",
        "  pickle.dump(rules_model, f, pickle.HIGHEST_PROTOCOL)\n",
        "with open('/content/'+'alert_rules.pkl', 'wb') as f:\n",
        "  pickle.dump(alert_rules, f, pickle.HIGHEST_PROTOCOL)\n",
        "\n",
        "alert_rules\n"
      ],
      "metadata": {
        "id": "iOaGQrvKOPk1"
      },
      "execution_count": null,
      "outputs": []
    },
    {
      "cell_type": "code",
      "source": [
        "df[df.Condition==0]['Binary Pattern'].value_counts()"
      ],
      "metadata": {
        "id": "n8iW7QlfHS81"
      },
      "execution_count": null,
      "outputs": []
    },
    {
      "cell_type": "code",
      "source": [
        "rules_model"
      ],
      "metadata": {
        "id": "iko_svITEb6i"
      },
      "execution_count": null,
      "outputs": []
    },
    {
      "cell_type": "code",
      "source": [
        "alert_rules"
      ],
      "metadata": {
        "id": "sDSDjC9rMIva"
      },
      "execution_count": null,
      "outputs": []
    }
  ]
}